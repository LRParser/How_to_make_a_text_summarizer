{
 "cells": [
  {
   "cell_type": "code",
   "execution_count": 1,
   "metadata": {
    "collapsed": false,
    "deletable": true,
    "editable": true
   },
   "outputs": [],
   "source": [
    "import json\n",
    "import pickle\n",
    "import os\n",
    "import unicodedata\n",
    "import codecs\n",
    "\n",
    "\n",
    "heads = list()\n",
    "descs = list()\n",
    "maxLines = 100000\n",
    "i = 0\n",
    "infile = codecs.open('signalmedia-1m.jsonl','r',encoding='utf-8',errors='ignore')\n",
    "for line in infile:\n",
    "        lineParsed = json.loads(line)\n",
    "        heads.append(lineParsed['title'].encode('utf-8').strip())\n",
    "        descs.append(lineParsed['content'].encode('utf-8').strip())\n",
    "        \n",
    "        i = i + 1\n",
    "        if(i >= maxLines) :\n",
    "            break\n",
    "\n",
    "infile.close()\n",
    "\n",
    "# Pickle the data\n",
    "tupleToPickle = (heads, descs, None)\n",
    "\n",
    "if not os.path.exists(\"data\"):\n",
    "    os.makedirs(\"data\")\n",
    "\n",
    "file = open(\"data/tokens.pkl\",\"wb\")\n",
    "pickle.dump(tupleToPickle,file)\n",
    "file.close()\n",
    "        "
   ]
  },
  {
   "cell_type": "code",
   "execution_count": null,
   "metadata": {
    "collapsed": true,
    "deletable": true,
    "editable": true
   },
   "outputs": [],
   "source": []
  }
 ],
 "metadata": {
  "kernelspec": {
   "display_name": "Python 2",
   "language": "python",
   "name": "python2"
  },
  "language_info": {
   "codemirror_mode": {
    "name": "ipython",
    "version": 2
   },
   "file_extension": ".py",
   "mimetype": "text/x-python",
   "name": "python",
   "nbconvert_exporter": "python",
   "pygments_lexer": "ipython2",
   "version": "2.7.13"
  }
 },
 "nbformat": 4,
 "nbformat_minor": 2
}
